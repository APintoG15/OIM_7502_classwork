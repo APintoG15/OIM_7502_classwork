{
 "cells": [
  {
   "cell_type": "markdown",
   "id": "b9e901e4-1535-44eb-880b-31f89a45d810",
   "metadata": {},
   "source": [
    "ASSINGMENT 2 "
   ]
  },
  {
   "cell_type": "code",
   "execution_count": 5,
   "id": "83d9f638-8b78-4f93-98bd-dcf263488c4e",
   "metadata": {},
   "outputs": [],
   "source": [
    "import pandas as pd\n",
    "import matplotlib.pyplot as plt\n",
    "import numpy as np\n",
    "from pathlib import Path\n",
    "\n",
    "# Load the datasets \n",
    "DATA_DIR = Path('.')  \n",
    "cast = pd.read_csv(DATA_DIR / 'cast.csv')\n",
    "release_dates = pd.read_csv(DATA_DIR / 'release_dates.csv')\n",
    "titles = pd.read_csv(DATA_DIR / 'titles.csv')\n",
    "\n",
    "# Convert date column\n",
    "release_dates['date'] = pd.to_datetime(release_dates['date'], errors='coerce')\n",
    "is_movie = (titles[\"type\"].str.lower() == \"movie\") if \"type\" in titles else pd.Series(True, index=titles.index)\n"
   ]
  },
  {
   "cell_type": "code",
   "execution_count": 2,
   "id": "98cd622c-856c-419e-8c92-9e6e6d5a55a8",
   "metadata": {},
   "outputs": [],
   "source": [
    "# Clean up \n",
    "titles.columns = titles.columns.str.lower().str.strip()\n",
    "cast.columns = cast.columns.str.lower().str.strip()\n",
    "release_dates.columns = release_dates.columns.str.lower().str.strip()\n",
    "\n",
    "titles['year'] = pd.to_numeric(titles['year'], errors='coerce')\n",
    "cast['year'] = pd.to_numeric(cast['year'], errors='coerce')\n",
    "release_dates['date'] = pd.to_datetime(release_dates['date'], errors='coerce')\n"
   ]
  },
  {
   "cell_type": "markdown",
   "id": "aca0fb4b-8d28-4f52-9199-b48de69c5002",
   "metadata": {},
   "source": [
    "1. Conduct a high level assessment of the three data files, i.e. how many records are there, what kind of data, etc. Summarize your findings with annotation."
   ]
  },
  {
   "cell_type": "code",
   "execution_count": 3,
   "id": "20448bb6-98d1-4959-9e43-76ee9970b2c1",
   "metadata": {},
   "outputs": [
    {
     "name": "stdout",
     "output_type": "stream",
     "text": [
      "--- titles ---\n",
      "rows: 226013\n",
      "columns: ['title', 'year']\n"
     ]
    },
    {
     "data": {
      "text/html": [
       "<div>\n",
       "<style scoped>\n",
       "    .dataframe tbody tr th:only-of-type {\n",
       "        vertical-align: middle;\n",
       "    }\n",
       "\n",
       "    .dataframe tbody tr th {\n",
       "        vertical-align: top;\n",
       "    }\n",
       "\n",
       "    .dataframe thead th {\n",
       "        text-align: right;\n",
       "    }\n",
       "</style>\n",
       "<table border=\"1\" class=\"dataframe\">\n",
       "  <thead>\n",
       "    <tr style=\"text-align: right;\">\n",
       "      <th></th>\n",
       "      <th>title</th>\n",
       "      <th>year</th>\n",
       "    </tr>\n",
       "  </thead>\n",
       "  <tbody>\n",
       "    <tr>\n",
       "      <th>0</th>\n",
       "      <td>Ankara ekspresi</td>\n",
       "      <td>1952</td>\n",
       "    </tr>\n",
       "    <tr>\n",
       "      <th>1</th>\n",
       "      <td>Ans Vaterland, ans teure</td>\n",
       "      <td>1915</td>\n",
       "    </tr>\n",
       "    <tr>\n",
       "      <th>2</th>\n",
       "      <td>Miss Mohini</td>\n",
       "      <td>2002</td>\n",
       "    </tr>\n",
       "    <tr>\n",
       "      <th>3</th>\n",
       "      <td>La vera madre</td>\n",
       "      <td>1999</td>\n",
       "    </tr>\n",
       "    <tr>\n",
       "      <th>4</th>\n",
       "      <td>O Amerikanos</td>\n",
       "      <td>1993</td>\n",
       "    </tr>\n",
       "  </tbody>\n",
       "</table>\n",
       "</div>"
      ],
      "text/plain": [
       "                      title  year\n",
       "0           Ankara ekspresi  1952\n",
       "1  Ans Vaterland, ans teure  1915\n",
       "2               Miss Mohini  2002\n",
       "3             La vera madre  1999\n",
       "4              O Amerikanos  1993"
      ]
     },
     "metadata": {},
     "output_type": "display_data"
    },
    {
     "name": "stdout",
     "output_type": "stream",
     "text": [
      "--- cast ---\n",
      "rows: 3442902\n",
      "columns: ['title', 'year', 'name', 'type', 'character', 'n']\n"
     ]
    },
    {
     "data": {
      "text/html": [
       "<div>\n",
       "<style scoped>\n",
       "    .dataframe tbody tr th:only-of-type {\n",
       "        vertical-align: middle;\n",
       "    }\n",
       "\n",
       "    .dataframe tbody tr th {\n",
       "        vertical-align: top;\n",
       "    }\n",
       "\n",
       "    .dataframe thead th {\n",
       "        text-align: right;\n",
       "    }\n",
       "</style>\n",
       "<table border=\"1\" class=\"dataframe\">\n",
       "  <thead>\n",
       "    <tr style=\"text-align: right;\">\n",
       "      <th></th>\n",
       "      <th>title</th>\n",
       "      <th>year</th>\n",
       "      <th>name</th>\n",
       "      <th>type</th>\n",
       "      <th>character</th>\n",
       "      <th>n</th>\n",
       "    </tr>\n",
       "  </thead>\n",
       "  <tbody>\n",
       "    <tr>\n",
       "      <th>0</th>\n",
       "      <td>Closet Monster</td>\n",
       "      <td>2015</td>\n",
       "      <td>Buffy #1</td>\n",
       "      <td>actor</td>\n",
       "      <td>Buffy 4</td>\n",
       "      <td>31.0</td>\n",
       "    </tr>\n",
       "    <tr>\n",
       "      <th>1</th>\n",
       "      <td>Suuri illusioni</td>\n",
       "      <td>1985</td>\n",
       "      <td>Homo $</td>\n",
       "      <td>actor</td>\n",
       "      <td>Guests</td>\n",
       "      <td>22.0</td>\n",
       "    </tr>\n",
       "    <tr>\n",
       "      <th>2</th>\n",
       "      <td>Battle of the Sexes</td>\n",
       "      <td>2017</td>\n",
       "      <td>$hutter</td>\n",
       "      <td>actor</td>\n",
       "      <td>Bobby Riggs Fan</td>\n",
       "      <td>10.0</td>\n",
       "    </tr>\n",
       "    <tr>\n",
       "      <th>3</th>\n",
       "      <td>Secret in Their Eyes</td>\n",
       "      <td>2015</td>\n",
       "      <td>$hutter</td>\n",
       "      <td>actor</td>\n",
       "      <td>2002 Dodger Fan</td>\n",
       "      <td>NaN</td>\n",
       "    </tr>\n",
       "    <tr>\n",
       "      <th>4</th>\n",
       "      <td>Steve Jobs</td>\n",
       "      <td>2015</td>\n",
       "      <td>$hutter</td>\n",
       "      <td>actor</td>\n",
       "      <td>1988 Opera House Patron</td>\n",
       "      <td>NaN</td>\n",
       "    </tr>\n",
       "  </tbody>\n",
       "</table>\n",
       "</div>"
      ],
      "text/plain": [
       "                  title  year      name   type                character     n\n",
       "0        Closet Monster  2015  Buffy #1  actor                  Buffy 4  31.0\n",
       "1       Suuri illusioni  1985    Homo $  actor                   Guests  22.0\n",
       "2   Battle of the Sexes  2017   $hutter  actor          Bobby Riggs Fan  10.0\n",
       "3  Secret in Their Eyes  2015   $hutter  actor          2002 Dodger Fan   NaN\n",
       "4            Steve Jobs  2015   $hutter  actor  1988 Opera House Patron   NaN"
      ]
     },
     "metadata": {},
     "output_type": "display_data"
    },
    {
     "name": "stdout",
     "output_type": "stream",
     "text": [
      "--- release_dates ---\n",
      "rows: 443486\n",
      "columns: ['title', 'year', 'country', 'date']\n"
     ]
    },
    {
     "data": {
      "text/html": [
       "<div>\n",
       "<style scoped>\n",
       "    .dataframe tbody tr th:only-of-type {\n",
       "        vertical-align: middle;\n",
       "    }\n",
       "\n",
       "    .dataframe tbody tr th {\n",
       "        vertical-align: top;\n",
       "    }\n",
       "\n",
       "    .dataframe thead th {\n",
       "        text-align: right;\n",
       "    }\n",
       "</style>\n",
       "<table border=\"1\" class=\"dataframe\">\n",
       "  <thead>\n",
       "    <tr style=\"text-align: right;\">\n",
       "      <th></th>\n",
       "      <th>title</th>\n",
       "      <th>year</th>\n",
       "      <th>country</th>\n",
       "      <th>date</th>\n",
       "    </tr>\n",
       "  </thead>\n",
       "  <tbody>\n",
       "    <tr>\n",
       "      <th>0</th>\n",
       "      <td>#73, Shaanthi Nivaasa</td>\n",
       "      <td>2007</td>\n",
       "      <td>India</td>\n",
       "      <td>2007-06-15</td>\n",
       "    </tr>\n",
       "    <tr>\n",
       "      <th>1</th>\n",
       "      <td>#BKKY</td>\n",
       "      <td>2016</td>\n",
       "      <td>Cambodia</td>\n",
       "      <td>2017-10-12</td>\n",
       "    </tr>\n",
       "    <tr>\n",
       "      <th>2</th>\n",
       "      <td>#Beings</td>\n",
       "      <td>2015</td>\n",
       "      <td>Romania</td>\n",
       "      <td>2015-01-29</td>\n",
       "    </tr>\n",
       "    <tr>\n",
       "      <th>3</th>\n",
       "      <td>#Captured</td>\n",
       "      <td>2017</td>\n",
       "      <td>USA</td>\n",
       "      <td>2017-09-05</td>\n",
       "    </tr>\n",
       "    <tr>\n",
       "      <th>4</th>\n",
       "      <td>#Ewankosau saranghaeyo</td>\n",
       "      <td>2015</td>\n",
       "      <td>Philippines</td>\n",
       "      <td>2015-01-21</td>\n",
       "    </tr>\n",
       "  </tbody>\n",
       "</table>\n",
       "</div>"
      ],
      "text/plain": [
       "                    title  year      country       date\n",
       "0   #73, Shaanthi Nivaasa  2007        India 2007-06-15\n",
       "1                   #BKKY  2016     Cambodia 2017-10-12\n",
       "2                 #Beings  2015      Romania 2015-01-29\n",
       "3               #Captured  2017          USA 2017-09-05\n",
       "4  #Ewankosau saranghaeyo  2015  Philippines 2015-01-21"
      ]
     },
     "metadata": {},
     "output_type": "display_data"
    }
   ],
   "source": [
    "def overview(df, name):\n",
    "    print(f\"--- {name} ---\")\n",
    "    print(\"rows:\", len(df))\n",
    "    print(\"columns:\", list(df.columns))\n",
    "    display(df.head())\n",
    "\n",
    "overview(titles, \"titles\")\n",
    "overview(cast, \"cast\")\n",
    "overview(release_dates, \"release_dates\")\n"
   ]
  },
  {
   "cell_type": "markdown",
   "id": "7274b9f6-01dd-4446-b3ff-cd15a7890bec",
   "metadata": {},
   "source": [
    "2. How many movies have the title North by Northwest"
   ]
  },
  {
   "cell_type": "code",
   "execution_count": 6,
   "id": "d33c4117-023f-45d1-922b-683d46333607",
   "metadata": {},
   "outputs": [
    {
     "name": "stdout",
     "output_type": "stream",
     "text": [
      "Count: 1\n"
     ]
    },
    {
     "data": {
      "text/html": [
       "<div>\n",
       "<style scoped>\n",
       "    .dataframe tbody tr th:only-of-type {\n",
       "        vertical-align: middle;\n",
       "    }\n",
       "\n",
       "    .dataframe tbody tr th {\n",
       "        vertical-align: top;\n",
       "    }\n",
       "\n",
       "    .dataframe thead th {\n",
       "        text-align: right;\n",
       "    }\n",
       "</style>\n",
       "<table border=\"1\" class=\"dataframe\">\n",
       "  <thead>\n",
       "    <tr style=\"text-align: right;\">\n",
       "      <th></th>\n",
       "      <th>title</th>\n",
       "      <th>year</th>\n",
       "    </tr>\n",
       "  </thead>\n",
       "  <tbody>\n",
       "    <tr>\n",
       "      <th>201761</th>\n",
       "      <td>North by Northwest</td>\n",
       "      <td>1959</td>\n",
       "    </tr>\n",
       "  </tbody>\n",
       "</table>\n",
       "</div>"
      ],
      "text/plain": [
       "                     title  year\n",
       "201761  North by Northwest  1959"
      ]
     },
     "metadata": {},
     "output_type": "display_data"
    }
   ],
   "source": [
    "q2 = titles[is_movie & (titles[\"title\"].str.casefold() == \"north by northwest\")]\n",
    "print(\"Count:\", len(q2))\n",
    "display(q2[[\"title\", \"year\"]].sort_values(\"year\"))\n"
   ]
  },
  {
   "cell_type": "markdown",
   "id": "22dda838-5240-4829-b8ed-fa398c72dcd2",
   "metadata": {},
   "source": [
    "3. How many version of Hamlet are there, when was the first made? the last?"
   ]
  },
  {
   "cell_type": "code",
   "execution_count": 7,
   "id": "efd7d80a-a796-44dd-b78a-a5cb8cbe41d7",
   "metadata": {},
   "outputs": [
    {
     "name": "stdout",
     "output_type": "stream",
     "text": [
      "Count: 20\n",
      "First year: 1910\n",
      "Last year: 2017\n"
     ]
    },
    {
     "data": {
      "text/html": [
       "<div>\n",
       "<style scoped>\n",
       "    .dataframe tbody tr th:only-of-type {\n",
       "        vertical-align: middle;\n",
       "    }\n",
       "\n",
       "    .dataframe tbody tr th {\n",
       "        vertical-align: top;\n",
       "    }\n",
       "\n",
       "    .dataframe thead th {\n",
       "        text-align: right;\n",
       "    }\n",
       "</style>\n",
       "<table border=\"1\" class=\"dataframe\">\n",
       "  <thead>\n",
       "    <tr style=\"text-align: right;\">\n",
       "      <th></th>\n",
       "      <th>title</th>\n",
       "      <th>year</th>\n",
       "    </tr>\n",
       "  </thead>\n",
       "  <tbody>\n",
       "    <tr>\n",
       "      <th>79939</th>\n",
       "      <td>Hamlet</td>\n",
       "      <td>1910</td>\n",
       "    </tr>\n",
       "    <tr>\n",
       "      <th>129673</th>\n",
       "      <td>Hamlet</td>\n",
       "      <td>1911</td>\n",
       "    </tr>\n",
       "    <tr>\n",
       "      <th>164637</th>\n",
       "      <td>Hamlet</td>\n",
       "      <td>1913</td>\n",
       "    </tr>\n",
       "    <tr>\n",
       "      <th>221419</th>\n",
       "      <td>Hamlet</td>\n",
       "      <td>1921</td>\n",
       "    </tr>\n",
       "    <tr>\n",
       "      <th>221201</th>\n",
       "      <td>Hamlet</td>\n",
       "      <td>1948</td>\n",
       "    </tr>\n",
       "    <tr>\n",
       "      <th>220568</th>\n",
       "      <td>Hamlet</td>\n",
       "      <td>1954</td>\n",
       "    </tr>\n",
       "    <tr>\n",
       "      <th>113670</th>\n",
       "      <td>Hamlet</td>\n",
       "      <td>1964</td>\n",
       "    </tr>\n",
       "    <tr>\n",
       "      <th>73929</th>\n",
       "      <td>Hamlet</td>\n",
       "      <td>1969</td>\n",
       "    </tr>\n",
       "    <tr>\n",
       "      <th>204180</th>\n",
       "      <td>Hamlet</td>\n",
       "      <td>1973</td>\n",
       "    </tr>\n",
       "    <tr>\n",
       "      <th>64116</th>\n",
       "      <td>Hamlet</td>\n",
       "      <td>1976</td>\n",
       "    </tr>\n",
       "    <tr>\n",
       "      <th>144085</th>\n",
       "      <td>Hamlet</td>\n",
       "      <td>1987</td>\n",
       "    </tr>\n",
       "    <tr>\n",
       "      <th>174856</th>\n",
       "      <td>Hamlet</td>\n",
       "      <td>1990</td>\n",
       "    </tr>\n",
       "    <tr>\n",
       "      <th>213476</th>\n",
       "      <td>Hamlet</td>\n",
       "      <td>1996</td>\n",
       "    </tr>\n",
       "    <tr>\n",
       "      <th>141682</th>\n",
       "      <td>Hamlet</td>\n",
       "      <td>2000</td>\n",
       "    </tr>\n",
       "    <tr>\n",
       "      <th>25028</th>\n",
       "      <td>Hamlet</td>\n",
       "      <td>2009</td>\n",
       "    </tr>\n",
       "    <tr>\n",
       "      <th>137240</th>\n",
       "      <td>Hamlet</td>\n",
       "      <td>2011</td>\n",
       "    </tr>\n",
       "    <tr>\n",
       "      <th>118331</th>\n",
       "      <td>Hamlet</td>\n",
       "      <td>2014</td>\n",
       "    </tr>\n",
       "    <tr>\n",
       "      <th>109822</th>\n",
       "      <td>Hamlet</td>\n",
       "      <td>2015</td>\n",
       "    </tr>\n",
       "    <tr>\n",
       "      <th>186870</th>\n",
       "      <td>Hamlet</td>\n",
       "      <td>2016</td>\n",
       "    </tr>\n",
       "    <tr>\n",
       "      <th>208380</th>\n",
       "      <td>Hamlet</td>\n",
       "      <td>2017</td>\n",
       "    </tr>\n",
       "  </tbody>\n",
       "</table>\n",
       "</div>"
      ],
      "text/plain": [
       "         title  year\n",
       "79939   Hamlet  1910\n",
       "129673  Hamlet  1911\n",
       "164637  Hamlet  1913\n",
       "221419  Hamlet  1921\n",
       "221201  Hamlet  1948\n",
       "220568  Hamlet  1954\n",
       "113670  Hamlet  1964\n",
       "73929   Hamlet  1969\n",
       "204180  Hamlet  1973\n",
       "64116   Hamlet  1976\n",
       "144085  Hamlet  1987\n",
       "174856  Hamlet  1990\n",
       "213476  Hamlet  1996\n",
       "141682  Hamlet  2000\n",
       "25028   Hamlet  2009\n",
       "137240  Hamlet  2011\n",
       "118331  Hamlet  2014\n",
       "109822  Hamlet  2015\n",
       "186870  Hamlet  2016\n",
       "208380  Hamlet  2017"
      ]
     },
     "metadata": {},
     "output_type": "display_data"
    }
   ],
   "source": [
    "ham = titles[is_movie & (titles[\"title\"].str.casefold() == \"hamlet\")]\n",
    "print(\"Count:\", len(ham))\n",
    "print(\"First year:\", int(ham[\"year\"].min()) if len(ham) else None)\n",
    "print(\"Last year:\",  int(ham[\"year\"].max()) if len(ham) else None)\n",
    "display(ham[[\"title\",\"year\"]].sort_values(\"year\"))\n"
   ]
  },
  {
   "cell_type": "markdown",
   "id": "1fe97324-5a1a-4d58-a016-679840e33c9d",
   "metadata": {},
   "source": [
    "4. List all the movies called Treasure Island from oldest to newest"
   ]
  },
  {
   "cell_type": "code",
   "execution_count": 9,
   "id": "79106277-7d2e-4f0e-9c0b-87bebca9bfef",
   "metadata": {},
   "outputs": [
    {
     "name": "stdout",
     "output_type": "stream",
     "text": [
      "                  title  year\n",
      "180911  Treasure Island  1918\n",
      "108853  Treasure Island  1920\n",
      "87953   Treasure Island  1934\n",
      "126321  Treasure Island  1950\n",
      "190233  Treasure Island  1972\n",
      "122150  Treasure Island  1973\n",
      "52099   Treasure Island  1985\n",
      "36752   Treasure Island  1999\n"
     ]
    }
   ],
   "source": [
    "treasure_island = titles[titles['title'] == 'Treasure Island'].sort_values('year')\n",
    "print(treasure_island)\n"
   ]
  },
  {
   "cell_type": "markdown",
   "id": "606bda50-b669-4186-be44-62f4871c04a1",
   "metadata": {},
   "source": [
    "5. How many movies were made in 1950? 1980? 2000? What conclusions can you draw from these data points?"
   ]
  },
  {
   "cell_type": "code",
   "execution_count": 10,
   "id": "08a3ea79-fead-4939-bee7-1fb46ce2005a",
   "metadata": {},
   "outputs": [
    {
     "name": "stdout",
     "output_type": "stream",
     "text": [
      "{1950: 1109, 1980: 1750, 2000: 2568}\n"
     ]
    }
   ],
   "source": [
    "years = [1950, 1980, 2000]\n",
    "counts = {y: int(((titles[\"year\"] == y) & is_movie).sum()) for y in years}\n",
    "print(counts)  \n"
   ]
  },
  {
   "cell_type": "markdown",
   "id": "534736ca-da06-4217-879f-3ef93a9725a3",
   "metadata": {},
   "source": [
    "the the number of movie have been growing over time "
   ]
  },
  {
   "cell_type": "markdown",
   "id": "814bd82c-41f3-4ddb-a0f7-4b6f0bbf5f3f",
   "metadata": {},
   "source": [
    "6. How big was the cast of Metropolis"
   ]
  },
  {
   "cell_type": "code",
   "execution_count": 14,
   "id": "8c4fe153-1c58-475d-90ee-0181b2e28f93",
   "metadata": {},
   "outputs": [
    {
     "name": "stdout",
     "output_type": "stream",
     "text": [
      "'Metropolis' (1927): cast size = 33\n"
     ]
    },
    {
     "data": {
      "text/html": [
       "<div>\n",
       "<style scoped>\n",
       "    .dataframe tbody tr th:only-of-type {\n",
       "        vertical-align: middle;\n",
       "    }\n",
       "\n",
       "    .dataframe tbody tr th {\n",
       "        vertical-align: top;\n",
       "    }\n",
       "\n",
       "    .dataframe thead th {\n",
       "        text-align: right;\n",
       "    }\n",
       "</style>\n",
       "<table border=\"1\" class=\"dataframe\">\n",
       "  <thead>\n",
       "    <tr style=\"text-align: right;\">\n",
       "      <th></th>\n",
       "      <th>title</th>\n",
       "      <th>year</th>\n",
       "    </tr>\n",
       "  </thead>\n",
       "  <tbody>\n",
       "    <tr>\n",
       "      <th>90449</th>\n",
       "      <td>Metropolis</td>\n",
       "      <td>1927</td>\n",
       "    </tr>\n",
       "  </tbody>\n",
       "</table>\n",
       "</div>"
      ],
      "text/plain": [
       "            title  year\n",
       "90449  Metropolis  1927"
      ]
     },
     "metadata": {},
     "output_type": "display_data"
    }
   ],
   "source": [
    "metro = titles[is_movie & (titles[\"title\"].str.casefold() == \"metropolis\")].sort_values(\"year\")\n",
    "if not metas.empty:\n",
    "    t0 = metro.iloc[0]\n",
    "    size = (cast[\"title_id\"] == t0[\"title_id\"]).sum() if \"title_id\" in cast and \"title_id\" in titles else \\\n",
    "           len(cast[cast[\"title\"].str.casefold() == t0[\"title\"].casefold()])  \n",
    "    print(f\"'{t0.title}' ({int(t0.year)}): cast size =\", int(size))\n",
    "    display(metro)\n"
   ]
  },
  {
   "cell_type": "markdown",
   "id": "fe83ef96-c495-4e17-931b-aab9c99de739",
   "metadata": {},
   "source": [
    "7. How many roles for actors were there 1950's? 1990's"
   ]
  },
  {
   "cell_type": "code",
   "execution_count": 15,
   "id": "c1dcc1ac-1e6d-425b-aaff-14e8afbbe7f4",
   "metadata": {},
   "outputs": [
    {
     "name": "stdout",
     "output_type": "stream",
     "text": [
      "1950s roles: 209890 | 1990s roles: 361218\n"
     ]
    }
   ],
   "source": [
    "actors = cast[cast[\"type\"].str.lower().isin([\"actor\",\"actress\"])] if \"type\" in cast else cast\n",
    "actors = actors.merge(titles[[\"title_id\",\"year\",\"title\"]], on=\"title_id\", how=\"left\") if \"title_id\" in cast and \"title_id\" in titles else actors\n",
    "\n",
    "roles_1950s = actors[actors[\"year\"].between(1950, 1959)]\n",
    "roles_1990s = actors[actors[\"year\"].between(1990, 1999)]\n",
    "print(\"1950s roles:\", len(roles_1950s), \"| 1990s roles:\", len(roles_1990s))\n"
   ]
  },
  {
   "cell_type": "markdown",
   "id": "2e61d7d7-34c8-4c65-84ed-ed74bf2c6603",
   "metadata": {},
   "source": [
    "8. How many roles for actors & actresses over time? Output should be a line graph"
   ]
  },
  {
   "cell_type": "code",
   "execution_count": 26,
   "id": "29af85f7-c8e7-4b4f-9b8b-d91fc3bdd022",
   "metadata": {},
   "outputs": [
    {
     "data": {
      "image/png": "[encoded data removed]",
      "text/plain": [
       "<Figure size 800x500 with 1 Axes>"
      ]
     },
     "metadata": {},
     "output_type": "display_data"
    }
   ],
   "source": [
    "# Q8) Roles for actors & actresses over time\n",
    "actors_only = actors[actors[\"type\"].str.lower() == \"actor\"]\n",
    "actresses_only = actors[actors[\"type\"].str.lower() == \"actress\"]\n",
    "\n",
    "roles_actors = actors_only.groupby(\"year\").size()\n",
    "roles_actresses = actresses_only.groupby(\"year\").size()\n",
    "\n",
    "plt.figure(figsize=(8,5))\n",
    "plt.plot(roles_actors.index, roles_actors.values, label=\"Actors\", color=\"blue\")\n",
    "plt.plot(roles_actresses.index, roles_actresses.values, label=\"Actresses\", color=\"orange\")\n",
    "plt.title(\"Roles Over Time by Gender\")\n",
    "plt.xlabel(\"Year\"); plt.ylabel(\"Number of Roles\")\n",
    "plt.legend(); plt.grid(alpha=0.3)\n",
    "plt.show()\n",
    "\n"
   ]
  },
  {
   "cell_type": "markdown",
   "id": "9a186ce9-5fbe-457d-ae0b-d89ac78798dc",
   "metadata": {},
   "source": [
    "9. How many \"leading roles\" were there in the 2000's?"
   ]
  },
  {
   "cell_type": "code",
   "execution_count": 24,
   "id": "b2a1dfdf-8737-40b4-8ea7-1d3f10aab93f",
   "metadata": {},
   "outputs": [
    {
     "name": "stdout",
     "output_type": "stream",
     "text": [
      "Number of leading roles (n=1 or n=2) in the 2000's: 45740\n"
     ]
    }
   ],
   "source": [
    "start_year = 2000\n",
    "end_year = 2009\n",
    "leading_ranks = [1, 2]\n",
    "\n",
    "leading_roles_2000s = cast[\n",
    "    (cast['year'] >= start_year) & \n",
    "    (cast['year'] <= end_year) & \n",
    "    (cast['n'].isin(leading_ranks))\n",
    "].shape[0]\n",
    "\n",
    "print(f\"Number of leading roles (n=1 or n=2) in the {start_year}'s: {leading_roles_2000s}\")\n"
   ]
  },
  {
   "cell_type": "markdown",
   "id": "55c2a5b4-f40f-4f64-b306-0a66fb2a338d",
   "metadata": {},
   "source": [
    "10. How many roles received no ranking in the 2000's? 1950's. What conclusions can you draw from these two data points?"
   ]
  },
  {
   "cell_type": "code",
   "execution_count": 29,
   "id": "379667d3-e130-4276-b5f4-4a7651b6ff3e",
   "metadata": {},
   "outputs": [
    {
     "name": "stdout",
     "output_type": "stream",
     "text": [
      "No ranking:\n",
      "  2000s: 232037\n",
      "  1950s: 95406\n"
     ]
    }
   ],
   "source": [
    "nr_2000s = actors[(actors[\"year\"].between(2000, 2009)) & (actors[\"n\"].isna())]\n",
    "nr_1950s = actors[(actors[\"year\"].between(1950, 1959)) & (actors[\"n\"].isna())]\n",
    "\n",
    "print(\"No ranking:\")\n",
    "print(\"  2000s:\", len(nr_2000s))\n",
    "print(\"  1950s:\", len(nr_1950s))\n",
    "\n"
   ]
  },
  {
   "cell_type": "markdown",
   "id": "15b367cd-bbda-4db4-b3d2-516042aed171",
   "metadata": {},
   "source": [
    "-A higher number of missing rankings in the 1950s suggests that older movie records are less complete or standardized\n",
    "-In the 2000s, most films have digital metadata and are added to IMDb directly by studios, meaning ranking data is more likely to be filled in.\n",
    "\n",
    "In conclusion the numbers reflect better data collection and digital record-keeping in modern times."
   ]
  },
  {
   "cell_type": "markdown",
   "id": "1b186245-0b13-469b-a871-bd2284027895",
   "metadata": {},
   "source": [
    "11. Plot the number of films made in each decade"
   ]
  },
  {
   "cell_type": "code",
   "execution_count": 30,
   "id": "c4e2e532-5aaf-4e0b-ae75-11108c840523",
   "metadata": {},
   "outputs": [
    {
     "data": {
      "image/png": "[encoded data removed]",
      "text/plain": [
       "<Figure size 640x480 with 1 Axes>"
      ]
     },
     "metadata": {},
     "output_type": "display_data"
    }
   ],
   "source": [
    "movies = titles[is_movie & titles[\"year\"].notna()].copy()\n",
    "movies[\"decade\"] = (movies[\"year\"] // 10 * 10).astype(\"Int64\")\n",
    "films_per_decade = movies.groupby(\"decade\").size()\n",
    "\n",
    "plt.figure()\n",
    "films_per_decade.plot(kind=\"bar\")\n",
    "plt.title(\"Films per decade\")\n",
    "plt.xlabel(\"Decade\"); plt.ylabel(\"Films\"); plt.grid(alpha=0.3)\n",
    "plt.show()\n"
   ]
  },
  {
   "cell_type": "markdown",
   "id": "eb01555d-5370-4fb5-bf86-7418fce5ba40",
   "metadata": {},
   "source": [
    "12. Plot the number of films with a Rustler character over time"
   ]
  },
  {
   "cell_type": "code",
   "execution_count": 31,
   "id": "a287864c-df47-4331-bf11-005b7585f29f",
   "metadata": {},
   "outputs": [
    {
     "data": {
      "image/png": "[encoded data removed]",
      "text/plain": [
       "<Figure size 640x480 with 1 Axes>"
      ]
     },
     "metadata": {},
     "output_type": "display_data"
    }
   ],
   "source": [
    "rust = cast[cast[\"character\"].astype(str).str.startswith(\"Rustler\", na=False)]\n",
    "rust = rust.merge(titles[[\"title_id\",\"year\"]], on=\"title_id\", how=\"left\") if \"title_id\" in cast and \"title_id\" in titles else rust\n",
    "by_year = rust.dropna(subset=[\"year\"]).groupby(\"year\")[\"title\"].nunique() if \"title\" in rust else \\\n",
    "          rust.dropna(subset=[\"year\"]).groupby(\"year\").size()\n",
    "\n",
    "plt.figure()\n",
    "by_year.sort_index().plot()\n",
    "plt.title('Films with a \"Rustler\" character'); plt.xlabel(\"Year\"); plt.ylabel(\"Film count\")\n",
    "plt.grid(alpha=0.3); plt.show()\n"
   ]
  },
  {
   "cell_type": "markdown",
   "id": "2dc17254-6046-43d9-905a-0a767b712b62",
   "metadata": {},
   "source": [
    "13. What are the top ten character names of all time?"
   ]
  },
  {
   "cell_type": "code",
   "execution_count": 32,
   "id": "f77d7cb7-69a3-43f6-8859-a2afd45602e6",
   "metadata": {},
   "outputs": [
    {
     "data": {
      "text/plain": [
       "character\n",
       "Himself        19673\n",
       "Dancer         12027\n",
       "Extra          10848\n",
       "Reporter        7818\n",
       "Doctor          6971\n",
       "Party Guest     6787\n",
       "Student         6637\n",
       "Policeman       6426\n",
       "Bartender       6292\n",
       "Herself         6281\n",
       "Name: count, dtype: int64"
      ]
     },
     "metadata": {},
     "output_type": "display_data"
    }
   ],
   "source": [
    "top_chars = (cast[\"character\"].astype(str)\n",
    "             .str.strip().replace(\"\", np.nan).dropna()\n",
    "             .value_counts()\n",
    "             .head(10))\n",
    "display(top_chars)\n"
   ]
  },
  {
   "cell_type": "markdown",
   "id": "51d5ddb6-8b84-4430-ae6d-710ae9415daa",
   "metadata": {},
   "source": [
    "14. Which actor appeared in the most films in the 1990's decade?"
   ]
  },
  {
   "cell_type": "code",
   "execution_count": 35,
   "id": "980757de-d32c-4c68-add5-bc6d4ee097dc",
   "metadata": {},
   "outputs": [
    {
     "name": "stdout",
     "output_type": "stream",
     "text": [
      "The actor who appeared in the most films in the 1990s is Shakti Kapoor (130 films).\n"
     ]
    }
   ],
   "source": [
    "dates = actors[actors[\"year\"].between(1990, 1999)]\n",
    "\n",
    "top_actor = (dates.groupby(\"name\")[\"title\"]\n",
    "             .nunique()\n",
    "             .sort_values(ascending=False)\n",
    "             .head(1))\n",
    "\n",
    "\n",
    "actor_name = top_actor.index[0]\n",
    "film_count = int(top_actor.iloc[0])\n",
    "print(f\"The actor who appeared in the most films in the 1990s is {actor_name} ({film_count} films).\")\n",
    "\n"
   ]
  },
  {
   "cell_type": "markdown",
   "id": "b96ba655-3ac6-4112-b6ec-f8f46386b27a",
   "metadata": {},
   "source": [
    "15. What are the top 10 roles that start with Science?"
   ]
  },
  {
   "cell_type": "code",
   "execution_count": 36,
   "id": "a2df8bfa-89a0-4b20-beda-572a33381a66",
   "metadata": {},
   "outputs": [
    {
     "data": {
      "text/plain": [
       "character\n",
       "Science Teacher         57\n",
       "Science Fair Student     9\n",
       "Science Student          6\n",
       "Science Fair Judge       6\n",
       "Science Kid              5\n",
       "Science Fair Kid         5\n",
       "Science Reporter         5\n",
       "Science                  4\n",
       "Science Officer          3\n",
       "Science teacher          3\n",
       "Name: count, dtype: int64"
      ]
     },
     "metadata": {},
     "output_type": "display_data"
    }
   ],
   "source": [
    "mask = cast[\"character\"].astype(str).str.startswith(\"Science\", na=False)\n",
    "display(cast.loc[mask, \"character\"].value_counts().head(10))\n"
   ]
  },
  {
   "cell_type": "markdown",
   "id": "514589ef-233e-4403-968a-28edbb6cd876",
   "metadata": {},
   "source": [
    "16. What film has the largest cast"
   ]
  },
  {
   "cell_type": "code",
   "execution_count": 37,
   "id": "a83005f3-8a45-4db0-be9b-2b590303f09b",
   "metadata": {},
   "outputs": [
    {
     "data": {
      "text/html": [
       "<div>\n",
       "<style scoped>\n",
       "    .dataframe tbody tr th:only-of-type {\n",
       "        vertical-align: middle;\n",
       "    }\n",
       "\n",
       "    .dataframe tbody tr th {\n",
       "        vertical-align: top;\n",
       "    }\n",
       "\n",
       "    .dataframe thead th {\n",
       "        text-align: right;\n",
       "    }\n",
       "</style>\n",
       "<table border=\"1\" class=\"dataframe\">\n",
       "  <thead>\n",
       "    <tr style=\"text-align: right;\">\n",
       "      <th></th>\n",
       "      <th>title</th>\n",
       "      <th>cast_size</th>\n",
       "    </tr>\n",
       "  </thead>\n",
       "  <tbody>\n",
       "    <tr>\n",
       "      <th>0</th>\n",
       "      <td>Around the World in 80 Days</td>\n",
       "      <td>1364</td>\n",
       "    </tr>\n",
       "  </tbody>\n",
       "</table>\n",
       "</div>"
      ],
      "text/plain": [
       "                         title  cast_size\n",
       "0  Around the World in 80 Days       1364"
      ]
     },
     "metadata": {},
     "output_type": "display_data"
    }
   ],
   "source": [
    "cast_sizes = cast.groupby(\"title_id\").size().rename(\"cast_size\") if \"title_id\" in cast else \\\n",
    "             cast.groupby(\"title\").size().rename(\"cast_size\")\n",
    "largest = (cast_sizes.sort_values(ascending=False)\n",
    "           .head(1)\n",
    "           .to_frame()\n",
    "           .reset_index())\n",
    "if \"title_id\" in largest.columns and \"title_id\" in titles:\n",
    "    largest = largest.merge(titles[[\"title_id\",\"title\",\"year\"]], on=\"title_id\", how=\"left\")\n",
    "display(largest)\n"
   ]
  },
  {
   "cell_type": "markdown",
   "id": "69121374-0544-40a3-90c4-82d8e0c1e1b1",
   "metadata": {},
   "source": [
    "17. Generate descriptive statistics for cast size. Briefly comment on the results"
   ]
  },
  {
   "cell_type": "code",
   "execution_count": 38,
   "id": "5c6182d4-d610-4516-9bed-1e720f7b5e67",
   "metadata": {},
   "outputs": [
    {
     "data": {
      "text/plain": [
       "count    168254.000000\n",
       "mean         20.462491\n",
       "std          24.206663\n",
       "min           1.000000\n",
       "25%           6.000000\n",
       "50%          13.000000\n",
       "75%          26.000000\n",
       "90%          46.000000\n",
       "95%          63.000000\n",
       "99%         115.000000\n",
       "max        1364.000000\n",
       "Name: cast_size, dtype: float64"
      ]
     },
     "metadata": {},
     "output_type": "display_data"
    }
   ],
   "source": [
    "stats = cast_sizes.describe(percentiles=[0.25, 0.5, 0.75, 0.9, 0.95, 0.99])\n",
    "display(stats)\n",
    "\n"
   ]
  },
  {
   "cell_type": "markdown",
   "id": "1d328d5a-deb2-499b-be2d-774358cd831b",
   "metadata": {},
   "source": [
    "-The average cast size is around 20 actors per film, meaning most movies feature a moderate number of performers.\n",
    "-The minimum cast size is 1, representing solo performances or incomplete data\n",
    "-The maximum cast size of 1,364 shows that some productions (like Around the World in 80 Days) have extremely large ensembles.\n",
    "-The 75th percentile (26) indicates that only 25% of movies have more than 26 actors.\n",
    "-The 99th percentile (115) highlights a few extreme outliers with exceptionally large casts."
   ]
  },
  {
   "cell_type": "markdown",
   "id": "2bc1d38a-1cca-4d32-a9c0-94c3bdde6083",
   "metadata": {},
   "source": [
    "18. How many films has Natalie Portman been in in each year throughout her career?"
   ]
  },
  {
   "cell_type": "code",
   "execution_count": 39,
   "id": "a4b8ec49-25e5-40b6-a263-eaae31812097",
   "metadata": {},
   "outputs": [
    {
     "data": {
      "image/png": "[encoded data removed]",
      "text/plain": [
       "<Figure size 640x480 with 1 Axes>"
      ]
     },
     "metadata": {},
     "output_type": "display_data"
    }
   ],
   "source": [
    "np_all = cast[cast[\"name\"].str.casefold() == \"natalie portman\"]\n",
    "np_all = np_all.merge(titles[[\"title_id\",\"title\",\"year\"]], on=\"title_id\", how=\"left\") if \"title_id\" in cast and \"title_id\" in titles else np_all\n",
    "np_per_year = np_all.dropna(subset=[\"year\"]).groupby(\"year\")[\"title\"].nunique() if \"title\" in np_all else \\\n",
    "              np_all.dropna(subset=[\"year\"]).groupby(\"year\")[\"title_id\"].nunique()\n",
    "\n",
    "plt.figure()\n",
    "np_per_year.sort_index().plot()\n",
    "plt.title(\"Natalie Portman: films per year\")\n",
    "plt.xlabel(\"Year\"); plt.ylabel(\"Films\"); plt.grid(alpha=0.3)\n",
    "plt.show()\n"
   ]
  },
  {
   "cell_type": "markdown",
   "id": "db8ec12c-431b-490f-a7a5-f0025c6d74d2",
   "metadata": {},
   "source": [
    "19. How many films did Natalie Portman appear in each year where where she was either the top star or co-star?"
   ]
  },
  {
   "cell_type": "code",
   "execution_count": 40,
   "id": "0ea8499f-3e31-4379-9b13-bc48aac1c592",
   "metadata": {},
   "outputs": [
    {
     "data": {
      "text/plain": [
       "year\n",
       "1999    1\n",
       "2000    1\n",
       "2002    1\n",
       "2005    3\n",
       "2006    1\n",
       "2007    1\n",
       "2008    1\n",
       "2009    1\n",
       "2010    1\n",
       "2011    2\n",
       "2013    1\n",
       "2015    2\n",
       "2016    2\n",
       "Name: title, dtype: int64"
      ]
     },
     "metadata": {},
     "output_type": "display_data"
    }
   ],
   "source": [
    "np_top = np_all[np_all[\"n\"].isin([1, 2])]\n",
    "np_top_year = np_top.dropna(subset=[\"year\"]).groupby(\"year\")[\"title\"].nunique() if \"title\" in np_top else \\\n",
    "              np_top.dropna(subset=[\"year\"]).groupby(\"year\")[\"title_id\"].nunique()\n",
    "display(np_top_year.sort_index())\n"
   ]
  },
  {
   "cell_type": "markdown",
   "id": "8e50f172-8e79-49a2-b73a-42366687d87a",
   "metadata": {},
   "source": [
    "20. Determine how many roles for actor or actress by decade. Plot the output"
   ]
  },
  {
   "cell_type": "code",
   "execution_count": 45,
   "id": "6ed11cf5-4d2b-44b5-904c-44cd1c60c0b0",
   "metadata": {},
   "outputs": [
    {
     "data": {
      "text/plain": [
       "<Figure size 1200x600 with 0 Axes>"
      ]
     },
     "metadata": {},
     "output_type": "display_data"
    },
    {
     "data": {
      "image/png": "[encoded data removed]",
      "text/plain": [
       "<Figure size 1200x600 with 1 Axes>"
      ]
     },
     "metadata": {},
     "output_type": "display_data"
    }
   ],
   "source": [
    "cast['decade'] = (cast['year'] // 10) * 10\n",
    "roles_by_decade_type = cast.groupby(['decade', 'type']).size().unstack(fill_value=0)\n",
    "plt.figure(figsize=(12, 6))\n",
    "roles_by_decade_type.plot(kind='bar', stacked=True, figsize=(12, 6), \n",
    "                          title='Number of Roles by Type (Actor/Actress) Per Decade')\n",
    "plt.xlabel('Decade')\n",
    "plt.ylabel('Total Number of Roles')\n",
    "plt.xticks(rotation=45)\n",
    "plt.legend(title='Role Type')\n",
    "plt.grid(axis='y')\n",
    "plt.show() \n",
    "\n"
   ]
  },
  {
   "cell_type": "markdown",
   "id": "a08441ff-9259-4904-a97c-a81b048f5481",
   "metadata": {},
   "source": [
    "21. Determine and comment on the day of the week that movies are released. What is notable about release days and months throughout the year? (Use pd.pivot_table)"
   ]
  },
  {
   "cell_type": "code",
   "execution_count": 50,
   "id": "72102bff-ecbe-4661-ac87-3d70e20cc28a",
   "metadata": {},
   "outputs": [
    {
     "data": {
      "text/html": [
       "<div>\n",
       "<style scoped>\n",
       "    .dataframe tbody tr th:only-of-type {\n",
       "        vertical-align: middle;\n",
       "    }\n",
       "\n",
       "    .dataframe tbody tr th {\n",
       "        vertical-align: top;\n",
       "    }\n",
       "\n",
       "    .dataframe thead th {\n",
       "        text-align: right;\n",
       "    }\n",
       "</style>\n",
       "<table border=\"1\" class=\"dataframe\">\n",
       "  <thead>\n",
       "    <tr style=\"text-align: right;\">\n",
       "      <th>month</th>\n",
       "      <th>1</th>\n",
       "      <th>2</th>\n",
       "      <th>3</th>\n",
       "      <th>4</th>\n",
       "      <th>5</th>\n",
       "      <th>6</th>\n",
       "      <th>7</th>\n",
       "      <th>8</th>\n",
       "      <th>9</th>\n",
       "      <th>10</th>\n",
       "      <th>11</th>\n",
       "      <th>12</th>\n",
       "    </tr>\n",
       "    <tr>\n",
       "      <th>dow</th>\n",
       "      <th></th>\n",
       "      <th></th>\n",
       "      <th></th>\n",
       "      <th></th>\n",
       "      <th></th>\n",
       "      <th></th>\n",
       "      <th></th>\n",
       "      <th></th>\n",
       "      <th></th>\n",
       "      <th></th>\n",
       "      <th></th>\n",
       "      <th></th>\n",
       "    </tr>\n",
       "  </thead>\n",
       "  <tbody>\n",
       "    <tr>\n",
       "      <th>Monday</th>\n",
       "      <td>3557</td>\n",
       "      <td>2991</td>\n",
       "      <td>3227</td>\n",
       "      <td>3056</td>\n",
       "      <td>2940</td>\n",
       "      <td>2276</td>\n",
       "      <td>2198</td>\n",
       "      <td>2744</td>\n",
       "      <td>2994</td>\n",
       "      <td>3389</td>\n",
       "      <td>3225</td>\n",
       "      <td>3069</td>\n",
       "    </tr>\n",
       "    <tr>\n",
       "      <th>Tuesday</th>\n",
       "      <td>1776</td>\n",
       "      <td>1138</td>\n",
       "      <td>1275</td>\n",
       "      <td>1409</td>\n",
       "      <td>1302</td>\n",
       "      <td>1132</td>\n",
       "      <td>1108</td>\n",
       "      <td>1089</td>\n",
       "      <td>1276</td>\n",
       "      <td>1497</td>\n",
       "      <td>1358</td>\n",
       "      <td>1758</td>\n",
       "    </tr>\n",
       "    <tr>\n",
       "      <th>Wednesday</th>\n",
       "      <td>4120</td>\n",
       "      <td>3488</td>\n",
       "      <td>3798</td>\n",
       "      <td>3863</td>\n",
       "      <td>3636</td>\n",
       "      <td>3511</td>\n",
       "      <td>3379</td>\n",
       "      <td>3522</td>\n",
       "      <td>3615</td>\n",
       "      <td>3879</td>\n",
       "      <td>3849</td>\n",
       "      <td>4053</td>\n",
       "    </tr>\n",
       "    <tr>\n",
       "      <th>Thursday</th>\n",
       "      <td>6999</td>\n",
       "      <td>6227</td>\n",
       "      <td>7401</td>\n",
       "      <td>7014</td>\n",
       "      <td>6763</td>\n",
       "      <td>6315</td>\n",
       "      <td>5913</td>\n",
       "      <td>6516</td>\n",
       "      <td>7124</td>\n",
       "      <td>7609</td>\n",
       "      <td>7247</td>\n",
       "      <td>6909</td>\n",
       "    </tr>\n",
       "    <tr>\n",
       "      <th>Friday</th>\n",
       "      <td>9187</td>\n",
       "      <td>8733</td>\n",
       "      <td>9727</td>\n",
       "      <td>9091</td>\n",
       "      <td>9175</td>\n",
       "      <td>8310</td>\n",
       "      <td>8032</td>\n",
       "      <td>9042</td>\n",
       "      <td>9790</td>\n",
       "      <td>9994</td>\n",
       "      <td>9444</td>\n",
       "      <td>8791</td>\n",
       "    </tr>\n",
       "    <tr>\n",
       "      <th>Saturday</th>\n",
       "      <td>2855</td>\n",
       "      <td>2334</td>\n",
       "      <td>2654</td>\n",
       "      <td>2786</td>\n",
       "      <td>2203</td>\n",
       "      <td>2353</td>\n",
       "      <td>2209</td>\n",
       "      <td>2179</td>\n",
       "      <td>2488</td>\n",
       "      <td>2634</td>\n",
       "      <td>2483</td>\n",
       "      <td>3136</td>\n",
       "    </tr>\n",
       "    <tr>\n",
       "      <th>Sunday</th>\n",
       "      <td>1776</td>\n",
       "      <td>1252</td>\n",
       "      <td>1214</td>\n",
       "      <td>1331</td>\n",
       "      <td>1151</td>\n",
       "      <td>1015</td>\n",
       "      <td>880</td>\n",
       "      <td>1125</td>\n",
       "      <td>1301</td>\n",
       "      <td>1393</td>\n",
       "      <td>1319</td>\n",
       "      <td>1738</td>\n",
       "    </tr>\n",
       "  </tbody>\n",
       "</table>\n",
       "</div>"
      ],
      "text/plain": [
       "month        1     2     3     4     5     6     7     8     9     10    11  \\\n",
       "dow                                                                           \n",
       "Monday     3557  2991  3227  3056  2940  2276  2198  2744  2994  3389  3225   \n",
       "Tuesday    1776  1138  1275  1409  1302  1132  1108  1089  1276  1497  1358   \n",
       "Wednesday  4120  3488  3798  3863  3636  3511  3379  3522  3615  3879  3849   \n",
       "Thursday   6999  6227  7401  7014  6763  6315  5913  6516  7124  7609  7247   \n",
       "Friday     9187  8733  9727  9091  9175  8310  8032  9042  9790  9994  9444   \n",
       "Saturday   2855  2334  2654  2786  2203  2353  2209  2179  2488  2634  2483   \n",
       "Sunday     1776  1252  1214  1331  1151  1015   880  1125  1301  1393  1319   \n",
       "\n",
       "month        12  \n",
       "dow              \n",
       "Monday     3069  \n",
       "Tuesday    1758  \n",
       "Wednesday  4053  \n",
       "Thursday   6909  \n",
       "Friday     8791  \n",
       "Saturday   3136  \n",
       "Sunday     1738  "
      ]
     },
     "metadata": {},
     "output_type": "display_data"
    }
   ],
   "source": [
    "valid_rd = release_dates.dropna(subset=[\"date\"]).copy()\n",
    "valid_rd[\"dow\"] = valid_rd[\"date\"].dt.day_name()\n",
    "valid_rd[\"month\"] = valid_rd[\"date\"].dt.month\n",
    "\n",
    "pvt = pd.pivot_table(valid_rd, index=\"dow\", columns=\"month\", values=\"title\", aggfunc=\"nunique\", fill_value=0)\n",
    "\n",
    "order = [\"Monday\", \"Tuesday\", \"Wednesday\", \"Thursday\", \"Friday\", \"Saturday\", \"Sunday\"]\n",
    "pvt = pvt.reindex(order)\n",
    "\n",
    "display(pvt)\n",
    "\n"
   ]
  },
  {
   "cell_type": "markdown",
   "id": "e6a8b9f4-aa51-4c04-abdd-46adf149aa91",
   "metadata": {},
   "source": [
    "22. Can you plot the pivot table? Is the output \"correct\"? Can you fix it?"
   ]
  },
  {
   "cell_type": "code",
   "execution_count": 52,
   "id": "a7e455b5-e451-4809-bcb8-a6ec38400e33",
   "metadata": {},
   "outputs": [
    {
     "data": {
      "image/png": "[encoded data removed]",
      "text/plain": [
       "<Figure size 1000x600 with 1 Axes>"
      ]
     },
     "metadata": {},
     "output_type": "display_data"
    }
   ],
   "source": [
    "pvt.plot(kind='bar',stacked=True,figsize=(10, 6), colormap='tab20')\n",
    "\n",
    "plt.title('Number of Movie Releases by Month and Day of the Week')\n",
    "plt.xlabel('Day of the Week')\n",
    "plt.ylabel('Number of Movie Releases')\n",
    "plt.legend(title='Month', bbox_to_anchor=(1.05, 1), loc='upper left')\n",
    "plt.grid(alpha=0.3)\n",
    "plt.tight_layout()\n",
    "plt.show()\n"
   ]
  },
  {
   "cell_type": "markdown",
   "id": "a9f6fb26-072d-4a0a-b5c7-22311b946a1f",
   "metadata": {},
   "source": [
    "23. What films did actors in Star Wars go on to appear in?"
   ]
  },
  {
   "cell_type": "code",
   "execution_count": 55,
   "id": "2c15b72a-2f83-4115-859d-b496dfcacc32",
   "metadata": {},
   "outputs": [
    {
     "name": "stdout",
     "output_type": "stream",
     "text": [
      "Unique follow-on films after 1977: 517\n",
      "                                         title  year\n",
      "661969                  Force 10 from Navarone  1978\n",
      "281989                         A Hitch in Time  1978\n",
      "263969                                Superman  1978\n",
      "2124677                            Loose Shoes  1978\n",
      "3185170                   International Velvet  1978\n",
      "893403                           The Big Sleep  1978\n",
      "662009                               Sweeney 2  1978\n",
      "2022064         The Chant of Jimmie Blacksmith  1978\n",
      "2022065         The King of the Two Day Wonder  1978\n",
      "480384                         Bruges-La-Morte  1978\n",
      "662031                   The Thirty-Nine Steps  1978\n",
      "480397                   The Lord of the Rings  1978\n",
      "110047                           Wombling Free  1978\n",
      "281991                          Let's Get Laid  1978\n",
      "1759246                   Warlords of Atlantis  1978\n",
      "838214                            Rupan sansei  1978\n",
      "848920                         Corvette Summer  1978\n",
      "1358440                  The Peregrine Hunters  1978\n",
      "1867079                         The Wild Geese  1978\n",
      "82403           Adventures of a Plumber's Mate  1978\n",
      "1932280              Rosie Dixon - Night Nurse  1978\n",
      "2022059                      Middle Age Spread  1979\n",
      "662013                               The Bitch  1979\n",
      "2556242                           City on Fire  1979\n",
      "661950                    Birth of the Beatles  1979\n",
      "1208373                      The Music Machine  1979\n",
      "661944                                  Agatha  1979\n",
      "466325                           Son of Hitler  1979\n",
      "661943   A Nightingale Sang in Berkeley Square  1979\n",
      "1165946           The Spaceman and King Arthur  1979\n",
      "684039                  More American Graffiti  1979\n",
      "661996                            Quadrophenia  1979\n",
      "466303                      A Touch of the Sun  1979\n",
      "466305                       Arabian Adventure  1979\n",
      "2641019                 Mr. Mike's Mondo Video  1979\n",
      "82410                Licensed to Love and Kill  1979\n",
      "684057                          The Frisco Kid  1979\n",
      "684029                          Hanover Street  1979\n",
      "864878                            Squeeze Play  1979\n",
      "2191141                            The Promise  1979\n",
      "662044                                   Yanks  1979\n",
      "684016                          Apocalypse Now  1979\n",
      "935437                       The Lady Vanishes  1979\n",
      "1268492                     The Mirror Crack'd  1980\n",
      "1277011                       Nothing Personal  1980\n",
      "110042                        The Elephant Man  1980\n",
      "110031                            Flash Gordon  1980\n",
      "1276998                     Atlantic City, USA  1980\n",
      "661953                          Breaking Glass  1980\n",
      "1759237                        The Dogs of War  1980\n",
      "\n",
      "Top 20 Star Wars (1977) actors by unique films AFTER 1977:\n",
      "name\n",
      "James Earl Jones      54\n",
      "Derek Lyons           44\n",
      "Harry Fielder         43\n",
      "Harrison Ford         40\n",
      "Mark Hamill           35\n",
      "Carrie Fisher         34\n",
      "William Hootkins      33\n",
      "Garrick Hagon         31\n",
      "Shane Rimmer          31\n",
      "Angus MacInnes        27\n",
      "Fred Wood             23\n",
      "Don (II) Henderson    15\n",
      "Morgan Upton          13\n",
      "Rusty Goffe           13\n",
      "Kenny Baker           12\n",
      "Burnell Tucker        11\n",
      "Malcolm Tierney       10\n",
      "Marcus Powell          9\n",
      "Pam Rose               9\n",
      "Scott Beach            9\n",
      "Name: title, dtype: int64\n"
     ]
    }
   ],
   "source": [
    "# Identify the 1977 Star Wars film robustly\n",
    "sw1977 = cast[\n",
    "    cast['title'].str.match(r'^Star Wars', na=False) & (cast['year'] == 1977)\n",
    "]\n",
    "\n",
    "# Actors/actresses in that film\n",
    "sw_people = sw1977.loc[sw1977['type'].isin(['actor', 'actress']), 'name'].unique()\n",
    "\n",
    "# Films those people appeared in AFTER 1977 (exclude Star Wars titles and ensure actor/actress)\n",
    "follow_on = cast[\n",
    "    cast['name'].isin(sw_people)\n",
    "    & cast['type'].isin(['actor', 'actress'])\n",
    "    & (cast['year'] > 1977)\n",
    "    & ~cast['title'].str.match(r'^Star Wars', na=False)\n",
    "].copy()\n",
    "\n",
    "# 1) The films (unique, sorted by year)\n",
    "subsequent_films = follow_on[['title', 'year']].drop_duplicates().sort_values('year')\n",
    "print(f\"Unique follow-on films after 1977: {len(subsequent_films)}\")\n",
    "print(subsequent_films.head(50))  # preview; remove head() to print all\n",
    "\n",
    "# 2) Who was most prolific after 1977 (by unique films)?\n",
    "prolific_after = (follow_on.groupby('name')['title']\n",
    "                  .nunique()\n",
    "                  .sort_values(ascending=False)\n",
    "                  .head(20))\n",
    "print(\"\\nTop 20 Star Wars (1977) actors by unique films AFTER 1977:\")\n",
    "print(prolific_after)\n",
    "\n"
   ]
  },
  {
   "cell_type": "code",
   "execution_count": null,
   "id": "6e5460e0-a523-4b84-be1b-946a9e8efe70",
   "metadata": {},
   "outputs": [],
   "source": []
  }
 ],
 "metadata": {
  "kernelspec": {
   "display_name": "Python [conda env:base] *",
   "language": "python",
   "name": "conda-base-py"
  },
  "language_info": {
   "codemirror_mode": {
    "name": "ipython",
    "version": 3
   },
   "file_extension": ".py",
   "mimetype": "text/x-python",
   "name": "python",
   "nbconvert_exporter": "python",
   "pygments_lexer": "ipython3",
   "version": "3.12.7"
  }
 },
 "nbformat": 4,
 "nbformat_minor": 5
}
